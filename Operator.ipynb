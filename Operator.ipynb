{
  "nbformat": 4,
  "nbformat_minor": 0,
  "metadata": {
    "colab": {
      "provenance": []
    },
    "kernelspec": {
      "name": "python3",
      "display_name": "Python 3"
    },
    "language_info": {
      "name": "python"
    }
  },
  "cells": [
    {
      "cell_type": "markdown",
      "source": [
        "Operator aritmatika"
      ],
      "metadata": {
        "id": "RUygVA7bX14m"
      }
    },
    {
      "cell_type": "code",
      "execution_count": 3,
      "metadata": {
        "colab": {
          "base_uri": "https://localhost:8080/"
        },
        "id": "Ciw3eXfJTHIO",
        "outputId": "ac3bf616-aa7d-4eb1-f7a1-6a77156fe7f4"
      },
      "outputs": [
        {
          "output_type": "stream",
          "name": "stdout",
          "text": [
            "penjumlahan\n",
            "4\n",
            "pengurangan\n",
            "--------------------\n",
            "-1\n",
            "perkalian\n",
            "--------------------\n",
            "6\n",
            "pembagian\n",
            "--------------------\n",
            "0.6666666666666666\n",
            "modulus\n",
            "--------------------\n",
            "1\n",
            "perpangkatan\n",
            "--------------------\n",
            "8\n",
            "pembagian pembulatan flooring\n",
            "--------------------\n",
            "1\n"
          ]
        }
      ],
      "source": [
        "\n",
        "#penjumlahan\n",
        "print ('penjumlahan')\n",
        "print (2+2)\n",
        "#pengurangan\n",
        "print ('pengurangan')\n",
        "print ('-'*20)\n",
        "print (2-3)\n",
        "#perkalian\n",
        "print ('perkalian')\n",
        "print ('-'*20)\n",
        "print (2*3)\n",
        "#pembagian\n",
        "print ('pembagian')\n",
        "print ('-'*20)\n",
        "print (2/3)\n",
        "#modulus\n",
        "print ('modulus')\n",
        "print ('-'*20)\n",
        "print (3%2)\n",
        "#perpangkatan\n",
        "print ('perpangkatan')\n",
        "print ('-'*20)\n",
        "print (2**3)\n",
        "#pembagian dengan hasil pembulatan flooring\n",
        "print ('pembagian pembulatan flooring')\n",
        "print ('-'*20)\n",
        "print (3//2)\n",
        ""
      ]
    },
    {
      "cell_type": "markdown",
      "source": [
        "Latihan Operator 1\n"
      ],
      "metadata": {
        "id": "l48EI92nYNSw"
      }
    },
    {
      "cell_type": "code",
      "source": [
        "#penjumlahan\n",
        "print ('penjumlahan')\n",
        "print (10+4)\n",
        "#pengurangan\n",
        "print ('pengurangan')\n",
        "print ('-'*20)\n",
        "print (14-1)\n",
        "#perkalian\n",
        "print ('perkalian')\n",
        "print ('-'*20)\n",
        "print (10*10)\n",
        "#pembagian\n",
        "print ('pembagian')\n",
        "print ('-'*20)\n",
        "print (100/2)\n",
        "#modulus\n",
        "print ('modulus')\n",
        "print ('-'*20)\n",
        "print (10%5)\n",
        "#perpangkatan\n",
        "print ('perpangkatan')\n",
        "print ('-'*20)\n",
        "print (2**12)\n",
        "#pembagian dengan hasil pembulatan flooring\n",
        "print ('pembagian pembulatan flooring')\n",
        "print ('-'*20)\n",
        "print (100//15)\n",
        ""
      ],
      "metadata": {
        "colab": {
          "base_uri": "https://localhost:8080/"
        },
        "id": "dtnXUOlaU8lk",
        "outputId": "bee56a00-5e36-450f-a0e1-46b9c1534873"
      },
      "execution_count": 4,
      "outputs": [
        {
          "output_type": "stream",
          "name": "stdout",
          "text": [
            "penjumlahan\n",
            "14\n",
            "pengurangan\n",
            "--------------------\n",
            "13\n",
            "perkalian\n",
            "--------------------\n",
            "100\n",
            "pembagian\n",
            "--------------------\n",
            "50.0\n",
            "modulus\n",
            "--------------------\n",
            "0\n",
            "perpangkatan\n",
            "--------------------\n",
            "4096\n",
            "pembagian pembulatan flooring\n",
            "--------------------\n",
            "6\n"
          ]
        }
      ]
    },
    {
      "cell_type": "markdown",
      "source": [
        "Operator Assignment"
      ],
      "metadata": {
        "id": "x0yVCthiYT6i"
      }
    },
    {
      "cell_type": "code",
      "source": [
        "#Penjumlahan\n",
        "print('Penjumlahan')\n",
        "x=5\n",
        "x=x+5\n",
        "print(x)\n",
        "x=5\n",
        "x+=5\n",
        "print(x)\n",
        "print('-'*20)\n",
        "\n",
        "#Pengurangan\n",
        "print ('Pengurangan')\n",
        "x=5\n",
        "x=x-5\n",
        "print(x)\n",
        "x=5\n",
        "x-=3\n",
        "print(x)\n",
        "print('-'*20)\n",
        "\n",
        "#Perkalian\n",
        "print('Perkalian')\n",
        "x=5\n",
        "x=x*5\n",
        "print(x)\n",
        "x=5\n",
        "x*=3\n",
        "print(x)\n",
        "print('-'*20)\n",
        "\n",
        "#Pembagian\n",
        "print('pembagian')\n",
        "x=5\n",
        "x=x/5\n",
        "print(x)\n",
        "x=5\n",
        "x/=3\n",
        "print (x)\n",
        "print('-'*20)\n",
        "\n",
        "#Modulus\n",
        "print('Modulus')\n",
        "x=5\n",
        "x=x%5\n",
        "print(x)\n",
        "x=5\n",
        "x%=3\n",
        "print(x)\n",
        "print('-'*20)\n",
        "\n",
        "#Pembagian Flooring\n",
        "print('Pembagian Flooring')\n",
        "x=5\n",
        "x=x//5\n",
        "print(x)\n",
        "x=5\n",
        "x//=3\n",
        "print(x)\n",
        "print('-'*20)\n",
        "\n",
        "#Perpangkatan\n",
        "print('Perpangkatan')\n",
        "x=5\n",
        "x=x**5\n",
        "print(x)\n",
        "x=5\n",
        "x**=3\n",
        "print(x)\n",
        "print('-'*20)"
      ],
      "metadata": {
        "colab": {
          "base_uri": "https://localhost:8080/"
        },
        "id": "pra5_VMdVO31",
        "outputId": "2d83ba79-c540-478e-fd34-ae659c026a49"
      },
      "execution_count": 5,
      "outputs": [
        {
          "output_type": "stream",
          "name": "stdout",
          "text": [
            "Penjumlahan\n",
            "10\n",
            "10\n",
            "--------------------\n",
            "Pengurangan\n",
            "0\n",
            "2\n",
            "--------------------\n",
            "Perkalian\n",
            "25\n",
            "15\n",
            "--------------------\n",
            "pembagian\n",
            "1.0\n",
            "1.6666666666666667\n",
            "--------------------\n",
            "Modulus\n",
            "0\n",
            "2\n",
            "--------------------\n",
            "Pembagian Flooring\n",
            "1\n",
            "1\n",
            "--------------------\n",
            "Perpangkatan\n",
            "3125\n",
            "125\n",
            "--------------------\n"
          ]
        }
      ]
    },
    {
      "cell_type": "markdown",
      "source": [
        "Latihan Operator 2"
      ],
      "metadata": {
        "id": "iORZ-96ZYavT"
      }
    },
    {
      "cell_type": "code",
      "source": [
        "#Penjumlahan\n",
        "print('Penjumlahan')\n",
        "x=10\n",
        "x=x+5\n",
        "print(x)\n",
        "x=100\n",
        "x+=500\n",
        "print(x)\n",
        "print('-'*20)\n",
        "\n",
        "#Pengurangan\n",
        "print ('Pengurangan')\n",
        "x=1000\n",
        "x=x-999\n",
        "print(x)\n",
        "x=7\n",
        "x-=6\n",
        "print(x)\n",
        "print('-'*20)\n",
        "\n",
        "#Perkalian\n",
        "print('Perkalian')\n",
        "x=90\n",
        "x=x*0\n",
        "print(x)\n",
        "x=8\n",
        "x*=8\n",
        "print(x)\n",
        "print('-'*20)\n",
        "\n",
        "#Pembagian\n",
        "print('pembagian')\n",
        "x=50\n",
        "x=x/5\n",
        "print(x)\n",
        "x=15\n",
        "x/=3\n",
        "print (x)\n",
        "print('-'*20)\n",
        "\n",
        "#Modulus\n",
        "print('Modulus')\n",
        "x=15\n",
        "x=x%8\n",
        "print(x)\n",
        "x=10\n",
        "x%=9\n",
        "print(x)\n",
        "print('-'*20)\n",
        "\n",
        "#Pembagian Flooring\n",
        "print('Pembagian Flooring')\n",
        "x=2\n",
        "x=x//6\n",
        "print(x)\n",
        "x=2\n",
        "x//=2\n",
        "print(x)\n",
        "print('-'*20)\n",
        "\n",
        "#Perpangkatan\n",
        "print('Perpangkatan')\n",
        "x=3\n",
        "x=x**15\n",
        "print(x)\n",
        "x=3\n",
        "x**=5\n",
        "print(x)\n",
        "print('-'*20)"
      ],
      "metadata": {
        "colab": {
          "base_uri": "https://localhost:8080/"
        },
        "id": "wPayoz7MVjB3",
        "outputId": "ca48e9e7-6fd3-4e29-b606-213a5a8a5176"
      },
      "execution_count": 6,
      "outputs": [
        {
          "output_type": "stream",
          "name": "stdout",
          "text": [
            "Penjumlahan\n",
            "15\n",
            "600\n",
            "--------------------\n",
            "Pengurangan\n",
            "1\n",
            "1\n",
            "--------------------\n",
            "Perkalian\n",
            "0\n",
            "64\n",
            "--------------------\n",
            "pembagian\n",
            "10.0\n",
            "5.0\n",
            "--------------------\n",
            "Modulus\n",
            "7\n",
            "1\n",
            "--------------------\n",
            "Pembagian Flooring\n",
            "0\n",
            "1\n",
            "--------------------\n",
            "Perpangkatan\n",
            "14348907\n",
            "243\n",
            "--------------------\n"
          ]
        }
      ]
    },
    {
      "cell_type": "markdown",
      "source": [
        "Operator Pembanding"
      ],
      "metadata": {
        "id": "dYKPD5pMYgOm"
      }
    },
    {
      "cell_type": "code",
      "source": [
        "print(2==2)\n",
        "print(2!=2)\n",
        "print(2>2)\n",
        "print(2<2)\n",
        "print(2>=2)\n",
        "print(2<=2)"
      ],
      "metadata": {
        "colab": {
          "base_uri": "https://localhost:8080/"
        },
        "id": "VjuyLcFGVxM4",
        "outputId": "04fee28d-7326-4f1f-f7e4-10a2a8f87fd1"
      },
      "execution_count": 7,
      "outputs": [
        {
          "output_type": "stream",
          "name": "stdout",
          "text": [
            "True\n",
            "False\n",
            "False\n",
            "False\n",
            "True\n",
            "True\n"
          ]
        }
      ]
    },
    {
      "cell_type": "markdown",
      "source": [
        "Latihan Operator 3]"
      ],
      "metadata": {
        "id": "fCP-MaIhYmU8"
      }
    },
    {
      "cell_type": "code",
      "source": [
        "print(1==1)\n",
        "print(3!=1)\n",
        "print(3>4)\n",
        "print(5<6)\n",
        "print(3>=4)\n",
        "print(3<=4)"
      ],
      "metadata": {
        "colab": {
          "base_uri": "https://localhost:8080/"
        },
        "id": "BnzL0OUiV05R",
        "outputId": "f7f20e95-1673-43e5-f83e-62cc933b883c"
      },
      "execution_count": 8,
      "outputs": [
        {
          "output_type": "stream",
          "name": "stdout",
          "text": [
            "True\n",
            "True\n",
            "False\n",
            "True\n",
            "False\n",
            "True\n"
          ]
        }
      ]
    },
    {
      "cell_type": "markdown",
      "source": [
        "Operator logika"
      ],
      "metadata": {
        "id": "iO3n95erYskd"
      }
    },
    {
      "cell_type": "code",
      "source": [
        "print(True and False)\n",
        "print(False or False)\n",
        "print(not False and True)"
      ],
      "metadata": {
        "colab": {
          "base_uri": "https://localhost:8080/"
        },
        "id": "cxfndNc3V6-c",
        "outputId": "09362738-e78b-49fd-b794-b954beb6a0a4"
      },
      "execution_count": 9,
      "outputs": [
        {
          "output_type": "stream",
          "name": "stdout",
          "text": [
            "False\n",
            "False\n",
            "True\n"
          ]
        }
      ]
    },
    {
      "cell_type": "markdown",
      "source": [
        "Latihan Operator 4"
      ],
      "metadata": {
        "id": "tDk55y7QYw5C"
      }
    },
    {
      "cell_type": "code",
      "source": [
        "print(True and True)\n",
        "print(True or False)\n",
        "print(not True and True)"
      ],
      "metadata": {
        "colab": {
          "base_uri": "https://localhost:8080/"
        },
        "id": "PpALwSIWV-7n",
        "outputId": "1d722091-178b-4fb1-bfa7-0f960afed7e2"
      },
      "execution_count": 10,
      "outputs": [
        {
          "output_type": "stream",
          "name": "stdout",
          "text": [
            "True\n",
            "True\n",
            "False\n"
          ]
        }
      ]
    },
    {
      "cell_type": "markdown",
      "source": [
        "Operator Membership"
      ],
      "metadata": {
        "id": "8yMKuIEkY4zf"
      }
    },
    {
      "cell_type": "code",
      "source": [
        "a=(1,2,3,4,5,6)\n",
        "b=2\n",
        "print(b in a)\n",
        "\n",
        "\n",
        "print('-'*20)\n",
        "a=(1,2,3,4,5,6)\n",
        "b=7\n",
        "print(b not in a)\n",
        ""
      ],
      "metadata": {
        "colab": {
          "base_uri": "https://localhost:8080/"
        },
        "id": "2g2fyWB5WAe7",
        "outputId": "8ab9f207-f011-41ef-a8c8-76b17d44bdd0"
      },
      "execution_count": 11,
      "outputs": [
        {
          "output_type": "stream",
          "name": "stdout",
          "text": [
            "True\n",
            "--------------------\n",
            "True\n"
          ]
        }
      ]
    },
    {
      "cell_type": "markdown",
      "source": [
        "Latihan OPerator 5"
      ],
      "metadata": {
        "id": "rsXshVViY748"
      }
    },
    {
      "cell_type": "code",
      "source": [
        "a=(1,2,3,4,5,6,7,8,9)\n",
        "b=5\n",
        "print(b in a)\n",
        "\n",
        "\n",
        "print('-'*20)\n",
        "a=(1,2,3,4,5,6,7,8,9)\n",
        "b=3\n",
        "print(b not in a)"
      ],
      "metadata": {
        "colab": {
          "base_uri": "https://localhost:8080/"
        },
        "id": "lh6zMgRkWEd3",
        "outputId": "d122e231-c306-47d0-febc-6bd0fb70acca"
      },
      "execution_count": 12,
      "outputs": [
        {
          "output_type": "stream",
          "name": "stdout",
          "text": [
            "True\n",
            "--------------------\n",
            "False\n"
          ]
        }
      ]
    },
    {
      "cell_type": "markdown",
      "source": [
        "Variabel"
      ],
      "metadata": {
        "id": "L9HZD2ARY-zH"
      }
    },
    {
      "cell_type": "code",
      "source": [
        "# membuat variabel\n",
        "kalimat ='ini adalah variabel'\n",
        "bilangan1 = 4\n",
        "bilangan2 = 2.5\n",
        "bilangan3 = True\n",
        "bilangan4 = 1j + 4\n",
        "\n",
        "# menampilkan variabel\n",
        "print(kalimat)\n",
        "print(bilangan1)\n",
        "print(bilangan2)\n",
        "print(bilangan3)\n",
        "print(bilangan4)"
      ],
      "metadata": {
        "colab": {
          "base_uri": "https://localhost:8080/"
        },
        "id": "CVYXs2NsWEgz",
        "outputId": "09ec2702-cf05-4c46-93eb-4eefa549edec"
      },
      "execution_count": 13,
      "outputs": [
        {
          "output_type": "stream",
          "name": "stdout",
          "text": [
            "ini adalah variabel\n",
            "4\n",
            "2.5\n",
            "True\n",
            "(4+1j)\n"
          ]
        }
      ]
    },
    {
      "cell_type": "markdown",
      "source": [
        "Latihan 1"
      ],
      "metadata": {
        "id": "tI_1inwYZCw3"
      }
    },
    {
      "cell_type": "code",
      "source": [
        "# membuat variabel\n",
        "kalimat ='aku ganteng'\n",
        "bilangan1 = 20 + 22j\n",
        "bilangan2 = 14.4\n",
        "bilangan3 = 2023\n",
        "bilangan4 = True\n",
        "\n",
        "# menampilkan variabel\n",
        "print(kalimat)\n",
        "print(bilangan1)\n",
        "print(bilangan2)\n",
        "print(bilangan3)\n",
        "print(bilangan4)"
      ],
      "metadata": {
        "colab": {
          "base_uri": "https://localhost:8080/"
        },
        "id": "btC-1qJ-WXGw",
        "outputId": "53406050-dec4-4a9a-cacc-aef0f2a753f4"
      },
      "execution_count": 14,
      "outputs": [
        {
          "output_type": "stream",
          "name": "stdout",
          "text": [
            "aku ganteng\n",
            "(20+22j)\n",
            "14.4\n",
            "2023\n",
            "True\n"
          ]
        }
      ]
    },
    {
      "cell_type": "markdown",
      "source": [
        "Tipe Data & KOnversi Data"
      ],
      "metadata": {
        "id": "d4FbGB-kZEvx"
      }
    },
    {
      "cell_type": "code",
      "source": [
        "# menampilkan tipe data\n",
        "print(type(kalimat))\n",
        "print(type(bilangan1))\n",
        "print(type(bilangan2))\n",
        "print(type(bilangan3))\n",
        "print(type(bilangan4))"
      ],
      "metadata": {
        "colab": {
          "base_uri": "https://localhost:8080/"
        },
        "id": "XT9DEMj7WfeP",
        "outputId": "25bbe387-b836-4aeb-c87a-f27d97c243e0"
      },
      "execution_count": 15,
      "outputs": [
        {
          "output_type": "stream",
          "name": "stdout",
          "text": [
            "<class 'str'>\n",
            "<class 'complex'>\n",
            "<class 'float'>\n",
            "<class 'int'>\n",
            "<class 'bool'>\n"
          ]
        }
      ]
    },
    {
      "cell_type": "markdown",
      "source": [
        "Latihan 2"
      ],
      "metadata": {
        "id": "4njhs1WOZL18"
      }
    },
    {
      "cell_type": "code",
      "source": [
        "# menampilkan tipe data\n",
        "print(type(kalimat))\n",
        "print(type(bilangan1))\n",
        "print(type(bilangan2))\n",
        "print(type(bilangan3))\n",
        "print(type(bilangan4))\n"
      ],
      "metadata": {
        "colab": {
          "base_uri": "https://localhost:8080/"
        },
        "id": "p6KL5qpsWfmd",
        "outputId": "43b7c5cb-ff49-4207-c925-d2676d28df0f"
      },
      "execution_count": 23,
      "outputs": [
        {
          "output_type": "stream",
          "name": "stdout",
          "text": [
            "<class 'str'>\n",
            "<class 'complex'>\n",
            "<class 'float'>\n",
            "<class 'int'>\n",
            "<class 'bool'>\n"
          ]
        }
      ]
    },
    {
      "cell_type": "markdown",
      "source": [
        "Konversi Tipe Data"
      ],
      "metadata": {
        "id": "tLhCEBJbZQZT"
      }
    },
    {
      "cell_type": "code",
      "source": [
        "# konversi tipe data integer\n",
        "print(int(bilangan2))\n",
        "print(int(bilangan3))\n",
        "\n",
        "# konversi tipe data float\n",
        "print(float(bilangan2))\n",
        "print(float(bilangan3))\n",
        "\n",
        "# konversi tipe data string\n",
        "print(str(bilangan1))\n",
        "print(str(bilangan2))\n",
        "print(str(bilangan3))\n",
        "\n",
        "# konversi tipe data bool\n",
        "print(bool(bilangan1))\n",
        "print(bool(bilangan2))\n",
        "\n",
        "# konversi tipe data complex\n",
        "print(complex(bilangan1))\n",
        "print(complex(bilangan2))\n",
        "print(complex(bilangan3))"
      ],
      "metadata": {
        "colab": {
          "base_uri": "https://localhost:8080/"
        },
        "id": "Agy5Zp8pWqRX",
        "outputId": "a628aecd-5db8-4dd5-f8a0-24527651bcd4"
      },
      "execution_count": 25,
      "outputs": [
        {
          "output_type": "stream",
          "name": "stdout",
          "text": [
            "14\n",
            "2023\n",
            "14.4\n",
            "2023.0\n",
            "(20+22j)\n",
            "14.4\n",
            "2023\n",
            "True\n",
            "True\n",
            "(20+22j)\n",
            "(14.4+0j)\n",
            "(2023+0j)\n"
          ]
        }
      ]
    },
    {
      "cell_type": "markdown",
      "source": [
        "Latihan 3"
      ],
      "metadata": {
        "id": "OtLRa26iZVxR"
      }
    },
    {
      "cell_type": "code",
      "source": [
        "# konversi tipe data integer\n",
        "print(int(bilangan3))\n",
        "print(int(bilangan4))\n",
        "\n",
        "# konversi tipe data float\n",
        "print(float(bilangan2))\n",
        "print(float(bilangan4))\n",
        "\n",
        "# konversi tipe data string\n",
        "print(str(bilangan1))\n",
        "print(str(bilangan2))\n",
        "print(str(bilangan3))\n",
        "\n",
        "# konversi tipe data bool\n",
        "print(bool(bilangan1))\n",
        "print(bool(bilangan2))\n",
        "\n",
        "# konversi tipe data complex\n",
        "print(complex(bilangan1))\n",
        "print(complex(bilangan2))\n",
        "print(complex(bilangan3))\n",
        ""
      ],
      "metadata": {
        "colab": {
          "base_uri": "https://localhost:8080/"
        },
        "id": "fv2NecHYWv7n",
        "outputId": "75633208-f5da-4221-e7b0-a8ceaff41a85"
      },
      "execution_count": 19,
      "outputs": [
        {
          "output_type": "stream",
          "name": "stdout",
          "text": [
            "2023\n",
            "1\n",
            "14.4\n",
            "1.0\n",
            "(20+22j)\n",
            "14.4\n",
            "2023\n",
            "True\n",
            "True\n",
            "(20+22j)\n",
            "(14.4+0j)\n",
            "(2023+0j)\n"
          ]
        }
      ]
    },
    {
      "cell_type": "code",
      "source": [],
      "metadata": {
        "id": "oK0Js6jeXMgt"
      },
      "execution_count": null,
      "outputs": []
    }
  ]
}