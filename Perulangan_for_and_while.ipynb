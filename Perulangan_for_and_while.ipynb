{
  "nbformat": 4,
  "nbformat_minor": 0,
  "metadata": {
    "colab": {
      "provenance": [],
      "authorship_tag": "ABX9TyOn2R2Ek32HoQIVPSOLQnDl",
      "include_colab_link": true
    },
    "kernelspec": {
      "name": "python3",
      "display_name": "Python 3"
    },
    "language_info": {
      "name": "python"
    }
  },
  "cells": [
    {
      "cell_type": "markdown",
      "metadata": {
        "id": "view-in-github",
        "colab_type": "text"
      },
      "source": [
        "<a href=\"https://colab.research.google.com/github/andininur21/PSDS/blob/main/Perulangan_for_and_while.ipynb\" target=\"_parent\"><img src=\"https://colab.research.google.com/assets/colab-badge.svg\" alt=\"Open In Colab\"/></a>"
      ]
    },
    {
      "cell_type": "markdown",
      "source": [
        "#Looping/Perulangan#\n",
        "Python menyediakan dua statement untuk melakukan proses perulangan yaitu for dan while. Diantara kedua statement ini, secara umum for lebih banyak digunakan daripada while.\n",
        "\n",
        "#For Loop\n",
        "Perulangan for digunakan untuk melakukan iterasi di dalam sequence seperti list,tuple,string, dan array atau objek yang dapat diiterasi lainnya.\n",
        "\n",
        "\n",
        "#Example: Python for Loop"
      ],
      "metadata": {
        "id": "YwOcgrOZFzP4"
      }
    },
    {
      "cell_type": "code",
      "execution_count": 2,
      "metadata": {
        "colab": {
          "base_uri": "https://localhost:8080/"
        },
        "id": "Vp8BTLBvFCpn",
        "outputId": "bbd70f9e-ea59-42f1-fefc-92bddbd1a0c7"
      },
      "outputs": [
        {
          "output_type": "stream",
          "name": "stdout",
          "text": [
            "27\n"
          ]
        }
      ],
      "source": [
        "#program untuk menghitung jumlah angka dalam sebuah list\n",
        "L1 = [2,4,5,7,9]\n",
        "jumlah = 0\n",
        "\n",
        "#iterasi di dalam list\n",
        "for i in L1:\n",
        "  jumlah = jumlah + i\n",
        "\n",
        "print(jumlah)"
      ]
    },
    {
      "cell_type": "markdown",
      "source": [
        "#The range () Fungction"
      ],
      "metadata": {
        "id": "7RWnneFrGmYU"
      }
    },
    {
      "cell_type": "code",
      "source": [
        "#Program untuk melakukan iterasi di dalam list melalui indeks\n",
        "minuman = [\"teh\", \"boba\", \"kopi\", \"susu\"]\n",
        "p = len(minuman)\n",
        "\n",
        "#iterasi di dalam list melalui indeks\n",
        "for i in range(p):\n",
        "  print(minuman[i])"
      ],
      "metadata": {
        "colab": {
          "base_uri": "https://localhost:8080/"
        },
        "id": "KKaB9VIIGsUo",
        "outputId": "c23b2196-5a20-41ca-c4a5-c6e9e44c0008"
      },
      "execution_count": 3,
      "outputs": [
        {
          "output_type": "stream",
          "name": "stdout",
          "text": [
            "teh\n",
            "boba\n",
            "kopi\n",
            "susu\n"
          ]
        }
      ]
    },
    {
      "cell_type": "markdown",
      "source": [
        "#for loop with else\n"
      ],
      "metadata": {
        "id": "n5q-UersG6ML"
      }
    },
    {
      "cell_type": "code",
      "source": [
        "#contoh for loop menggunakanan else\n",
        "for i in range(p):\n",
        "  print(minuman[i])\n",
        "else:\n",
        "  print('element sudah habis')"
      ],
      "metadata": {
        "colab": {
          "base_uri": "https://localhost:8080/"
        },
        "id": "SHY7GYNXG-ij",
        "outputId": "1fa715be-fd91-434e-90c5-ecc380515c25"
      },
      "execution_count": 4,
      "outputs": [
        {
          "output_type": "stream",
          "name": "stdout",
          "text": [
            "teh\n",
            "boba\n",
            "kopi\n",
            "susu\n",
            "element sudah habis\n"
          ]
        }
      ]
    },
    {
      "cell_type": "markdown",
      "source": [
        "Latihan 1\n"
      ],
      "metadata": {
        "id": "_ZsU-AckHDZD"
      }
    },
    {
      "cell_type": "code",
      "source": [
        "list_tagihan = [25000, 50000, -120000, 125000, 400000, -40000, 250000]\n",
        "total_tagihan = 0\n",
        "\n",
        "for i in list_tagihan:\n",
        "  total_tagihan = total_tagihan + i\n",
        "\n",
        "print(total_tagihan)"
      ],
      "metadata": {
        "colab": {
          "base_uri": "https://localhost:8080/"
        },
        "id": "AJRsCbQWHXSX",
        "outputId": "8169a5ae-810d-4b16-b100-c046e69d5f71"
      },
      "execution_count": 5,
      "outputs": [
        {
          "output_type": "stream",
          "name": "stdout",
          "text": [
            "690000\n"
          ]
        }
      ]
    },
    {
      "cell_type": "markdown",
      "source": [
        "#While Loop#\n",
        "\n",
        "While loop pada Python digunakan untuk melakukan iterasi pada blok kode selama nilai dari test expression adalah true.\n"
      ],
      "metadata": {
        "id": "oCzO58wIHiHS"
      }
    },
    {
      "cell_type": "code",
      "source": [
        "#Program untuk menjumlahkan semua\n",
        "#bilangan asli hingga suku ke-n\n",
        "#jum = 1+2+3+...+n\n",
        "\n",
        "n = 10\n",
        "jumlah = 0\n",
        "i = 1\n",
        "\n",
        "while i <= n:\n",
        "  jumlah = jumlah + i\n",
        "  i = i + 1\n",
        "\n",
        "print(jumlah)"
      ],
      "metadata": {
        "colab": {
          "base_uri": "https://localhost:8080/"
        },
        "id": "5U5Gc3gEHrkj",
        "outputId": "810ed5c6-1932-4f04-b709-80624f137439"
      },
      "execution_count": 6,
      "outputs": [
        {
          "output_type": "stream",
          "name": "stdout",
          "text": [
            "55\n"
          ]
        }
      ]
    },
    {
      "cell_type": "markdown",
      "source": [
        "#While loop with else\n",
        "\n",
        "Sama dengan for loop kita juga dapat mengkombinasikan while loop dengan blok else.\n",
        "\n",
        "Bagian else akan dieksekusi jika nilai pada test expression pada while loop bernilai False. Perhatikan contoh berikut:"
      ],
      "metadata": {
        "id": "m8w5e9yJHx2B"
      }
    },
    {
      "cell_type": "code",
      "source": [
        "jum = 0\n",
        "i = 1\n",
        "while i <= n:\n",
        "  jum = jum + i\n",
        "  i = i + 1\n",
        "else:\n",
        "  print(jum) #dieksekusi diluar looping\n",
        ""
      ],
      "metadata": {
        "colab": {
          "base_uri": "https://localhost:8080/"
        },
        "id": "35cb6u3kIDlx",
        "outputId": "93baa0d4-75c7-4c03-8f15-bcd221e9eb65"
      },
      "execution_count": 7,
      "outputs": [
        {
          "output_type": "stream",
          "name": "stdout",
          "text": [
            "55\n"
          ]
        }
      ]
    },
    {
      "cell_type": "markdown",
      "source": [
        "Latihan 2"
      ],
      "metadata": {
        "id": "F8V-l9JUINSu"
      }
    },
    {
      "cell_type": "code",
      "source": [
        "tagihan = [20000, 50000, 100000, 200000, 400000]\n",
        "total_tagihan = 0\n",
        "i = 0\n",
        "m = len(tagihan)\n",
        "\n",
        "while i < len(tagihan):\n",
        "  total_tagihan += tagihan[i]\n",
        "  i += 1\n",
        "\n",
        "print(total_tagihan)"
      ],
      "metadata": {
        "colab": {
          "base_uri": "https://localhost:8080/"
        },
        "id": "wTuAoC2CIVg6",
        "outputId": "90b82e90-7978-4f55-b357-48059739006d"
      },
      "execution_count": 9,
      "outputs": [
        {
          "output_type": "stream",
          "name": "stdout",
          "text": [
            "770000\n"
          ]
        }
      ]
    }
  ]
}