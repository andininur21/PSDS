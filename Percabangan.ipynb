{
  "nbformat": 4,
  "nbformat_minor": 0,
  "metadata": {
    "colab": {
      "provenance": [],
      "authorship_tag": "ABX9TyMUzPKGZfg0SE+p3/eppCp5",
      "include_colab_link": true
    },
    "kernelspec": {
      "name": "python3",
      "display_name": "Python 3"
    },
    "language_info": {
      "name": "python"
    }
  },
  "cells": [
    {
      "cell_type": "markdown",
      "metadata": {
        "id": "view-in-github",
        "colab_type": "text"
      },
      "source": [
        "<a href=\"https://colab.research.google.com/github/andininur21/PSDS/blob/main/Percabangan.ipynb\" target=\"_parent\"><img src=\"https://colab.research.google.com/assets/colab-badge.svg\" alt=\"Open In Colab\"/></a>"
      ]
    },
    {
      "cell_type": "markdown",
      "source": [
        "#Percabangan/struktur pemilihan\n",
        "\n",
        "pada bagian ini, kamu akan membuat keputusan pada bahasa pemograman pyhton menggunakan struktur percabangan atau juga sering disebut IF ELSE statment. pengambilan keputusan dibutuhkan ketika kamu akan mengeksekusi suatu kode jika sebuah kondisi tertentu di penuhi\n",
        "\n",
        "statement if.. elif..else digunakan pada pyhton untuk mengambil keputusan\n",
        "\n",
        "#If Statement\n"
      ],
      "metadata": {
        "id": "81tBcLSOaOPc"
      }
    },
    {
      "cell_type": "code",
      "execution_count": 2,
      "metadata": {
        "colab": {
          "base_uri": "https://localhost:8080/"
        },
        "id": "CwAtM5EbJkMW",
        "outputId": "09bdd02a-27d2-4dd4-da07-a82c7b4a48ae"
      },
      "outputs": [
        {
          "output_type": "stream",
          "name": "stdout",
          "text": [
            "3 adalah bilangan positif\n",
            "pernyataan ini juga selalu di tampilkan\n",
            "-1 adalah bilngan negatif\n",
            "pernyataan ini juga selalu di tampilkan\n"
          ]
        }
      ],
      "source": [
        "#jika angka bilangan positif maka print \"adalah bilangan positif\"\n",
        "\n",
        "angka = 3\n",
        "if angka> 0:\n",
        "  print(angka, 'adalah bilangan positif')\n",
        "print('pernyataan ini juga selalu di tampilkan')\n",
        "angka = -1\n",
        "if angka< 0:\n",
        "  print(angka, 'adalah bilngan negatif')\n",
        "print('pernyataan ini juga selalu di tampilkan')"
      ]
    },
    {
      "cell_type": "markdown",
      "source": [
        "#IF Else Statememt"
      ],
      "metadata": {
        "id": "2ODo9xjbaoxM"
      }
    },
    {
      "cell_type": "code",
      "source": [
        "# program disusun untuk menecek apakah angka tersebut kurang dari 0 atau tidak\n",
        "# dan menampilkan tulisan yang sesuai\n",
        "angka=3\n",
        "if angka >= 0:\n",
        "   print('bilangan lebih dari atau samadengan 0')\n",
        "\n",
        "else :\n",
        "   print('bilangan kurang dari 0')"
      ],
      "metadata": {
        "colab": {
          "base_uri": "https://localhost:8080/"
        },
        "id": "yTLJr9_ba7tF",
        "outputId": "d60a73c8-68f5-4556-8377-c076437fd546"
      },
      "execution_count": 3,
      "outputs": [
        {
          "output_type": "stream",
          "name": "stdout",
          "text": [
            "bilangan lebih dari atau samadengan 0\n"
          ]
        }
      ]
    },
    {
      "cell_type": "code",
      "source": [
        "#Program disusun untuk mengecek apakah dua buah angka sama atau tidak sama\n",
        "#dan menampilkan tulisan yang sesuai\n",
        "a = 5\n",
        "b = 5\n",
        "if a==b :\n",
        "  print('a dan b bernilai sama')\n",
        "else:\n",
        "  print('a dan b bernilai berbeda')\n",
        "  print('belajar IF ELSE')"
      ],
      "metadata": {
        "colab": {
          "base_uri": "https://localhost:8080/"
        },
        "id": "P9sOFPDfa_cI",
        "outputId": "d893ddce-a595-4da0-ae3d-e33184bbc223"
      },
      "execution_count": 4,
      "outputs": [
        {
          "output_type": "stream",
          "name": "stdout",
          "text": [
            "a dan b bernilai sama\n"
          ]
        }
      ]
    },
    {
      "cell_type": "code",
      "source": [
        "#program disusun untukk mengecek apakah perbandingan dua buah angka\n",
        "#dan menampilkan tulisan yang sesuai\n",
        "# membaca dua angka\n",
        "bil1 = int(input('masukkan bilangan pertama :'))\n",
        "bil2 = int(input('masukkan bikangan kedua '))\n",
        "# memilih bilangan yang lebih bedar\n",
        "if bil1>bil2:\n",
        "  bil_lebih_besar = bil1\n",
        "else :\n",
        "  bil_lebih_besar = bil2\n",
        "#menampilkan hasil\n",
        "print('bilangan yang lebih besar adalah:',bil_lebih_besar)"
      ],
      "metadata": {
        "colab": {
          "base_uri": "https://localhost:8080/"
        },
        "id": "rDQsC5oCbESU",
        "outputId": "aa384fd1-5e7f-490b-8cf4-0a2ca8a2e621"
      },
      "execution_count": 5,
      "outputs": [
        {
          "output_type": "stream",
          "name": "stdout",
          "text": [
            "masukkan bilangan pertama :3\n",
            "masukkan bikangan kedua 5\n",
            "bilangan yang lebih besar adalah: 5\n"
          ]
        }
      ]
    },
    {
      "cell_type": "markdown",
      "source": [
        "#IF Elif Else Statement"
      ],
      "metadata": {
        "id": "o7GCW2TDbLxY"
      }
    },
    {
      "cell_type": "code",
      "source": [
        "#program disusun untuk mengecek apakah merupakan bilangan positif,negatif,atau nol\n",
        "#dan menampilkan tulisan yang sesuai\n",
        "angka = 3.4\n",
        "if angka > 0 :\n",
        "  print('bilangan positif')\n",
        "elif angka == 0:\n",
        "  print('nol')\n",
        "else:\n",
        "  print('bilangan negatif')"
      ],
      "metadata": {
        "colab": {
          "base_uri": "https://localhost:8080/"
        },
        "id": "BOikRt7BbSAW",
        "outputId": "101e5e84-9f6f-4cd7-c683-3ecf004fa768"
      },
      "execution_count": 6,
      "outputs": [
        {
          "output_type": "stream",
          "name": "stdout",
          "text": [
            "bilangan positif\n"
          ]
        }
      ]
    },
    {
      "cell_type": "code",
      "source": [
        "#statement if\n",
        "x = 4\n",
        "if x %2 ==0: #jika di bagi 3 sisanya samadengan 0\n",
        "  print('x habis di bagi dua')\n",
        "\n",
        "# statement if ... elif...else\n",
        "x = 7\n",
        "if x % 2 == 0: #jika x dibagi 2 sisanya samadengan 0\n",
        "  print('x habis di bagi dua')\n",
        "elif x % 3==0: #jika x dibagi 3 sisanya samadengan 0\n",
        "  print(' x habis di bagi tiga')\n",
        "elif x%5 == 0: #jika x dibagi 5 sisanya samadengan 0\n",
        "  print('x habis di bagi lima')\n",
        "else:\n",
        "  print('x tidak habis dibagi dua,tiga,ataupun lima')"
      ],
      "metadata": {
        "colab": {
          "base_uri": "https://localhost:8080/"
        },
        "id": "geb3WmQUbaLs",
        "outputId": "a170e938-7e37-40df-b801-cd52804bf16c"
      },
      "execution_count": 7,
      "outputs": [
        {
          "output_type": "stream",
          "name": "stdout",
          "text": [
            "x habis di bagi dua\n",
            "x tidak habis dibagi dua,tiga,ataupun lima\n"
          ]
        }
      ]
    },
    {
      "cell_type": "markdown",
      "source": [
        "#Python nested IF statement"
      ],
      "metadata": {
        "id": "yS7VqABScHx8"
      }
    },
    {
      "cell_type": "code",
      "source": [
        "#program disusun untuk mengecek apakah merupakan bilangan positif,negatif,atau nol\n",
        "#dan menampilkan tulisan yang sesuai\n",
        "angka = float(input('masukkan angka:'))\n",
        "if angka >= 0 :\n",
        "  if angka == 0:\n",
        "     print('nol')\n",
        "  else:\n",
        "     print('bilangan positif')\n",
        "else :\n",
        "  print('bilangan negatif')"
      ],
      "metadata": {
        "colab": {
          "base_uri": "https://localhost:8080/"
        },
        "id": "qXTrMsOdcERa",
        "outputId": "ba889d58-acf7-499b-a0db-fe8244b7ccd3"
      },
      "execution_count": 8,
      "outputs": [
        {
          "output_type": "stream",
          "name": "stdout",
          "text": [
            "masukkan angka:4\n",
            "bilangan positif\n"
          ]
        }
      ]
    },
    {
      "cell_type": "markdown",
      "source": [
        "#Latihan\n",
        "\n",
        "buatlah sebuah fungsi \"Mahal_Diskon\" dengan ketentuan:\n",
        "\n",
        "input berupa data produk dengan tipe numerik tunggal\n",
        "kategori input adalah \"murah\" dan \"mahal\", kemudian diskon ada 3 kategori 10%,20%,dan 40%\n",
        "output pertama sebuah teks/string yang menyatakan \"mahal\" atau \"murah\" dan keterangan \"kam mendaptkan diskon..\"\n",
        "output kedua adalah harga yang perlu dibayarkan"
      ],
      "metadata": {
        "id": "QmN-E_Q2cRuB"
      }
    },
    {
      "cell_type": "code",
      "source": [
        "def Mahal_Diskon(harga, kategori, diskon):\n",
        "    if kategori == \"mahal\":\n",
        "        if diskon == 10:\n",
        "            harga_diskon = harga - (harga * 0.1)\n",
        "            return \"Mahal - Anda mendapatkan diskon 10%\", harga_diskon\n",
        "        elif diskon == 20:\n",
        "            harga_diskon = harga - (harga * 0.2)\n",
        "            return \"Mahal - Anda mendapatkan diskon 20%\", harga_diskon\n",
        "        elif diskon == 40:\n",
        "            harga_diskon = harga - (harga * 0.4)\n",
        "            return \"Mahal - Anda mendapatkan diskon 40%\", harga_diskon\n",
        "        else:\n",
        "            return \"Diskon tidak valid. Pilih 10%, 20%, atau 40%.\", None\n",
        "    elif kategori == \"murah\":\n",
        "        harga_diskon = harga\n",
        "        return \"Murah - Anda tidak mendapatkan diskon.\", harga_diskon\n",
        "    else:\n",
        "        return \"Kategori tidak valid. Pilih 'mahal' atau 'murah'.\", None\n",
        "# Test case 1: produk mahal, diskon 20%\n",
        "harga_produk = 500000\n",
        "kategori_produk = \"mahal\"\n",
        "diskon_produk = 20\n",
        "\n",
        "hasil, harga_diskon = Mahal_Diskon(harga_produk, kategori_produk, diskon_produk)\n",
        "print(hasil)  # Output: Mahal - Anda mendapatkan diskon 20%\n",
        "print(harga_diskon)  # Output: 400000.0\n",
        "\n",
        "# Test case 2: produk murah, tanpa diskon\n",
        "harga_produk = 100000\n",
        "kategori_produk = \"murah\"\n",
        "diskon_produk = 10\n",
        "\n",
        "hasil, harga_diskon = Mahal_Diskon(harga_produk, kategori_produk, diskon_produk)\n",
        "print(hasil)  # Output: Murah - Anda tidak mendapatkan diskon.\n",
        "print(harga_diskon)  # Output: 100000\n"
      ],
      "metadata": {
        "colab": {
          "base_uri": "https://localhost:8080/"
        },
        "id": "aUaO9PhscY8u",
        "outputId": "9a352044-69c4-433a-b7c5-10068af91d69"
      },
      "execution_count": 10,
      "outputs": [
        {
          "output_type": "stream",
          "name": "stdout",
          "text": [
            "Mahal - Anda mendapatkan diskon 20%\n",
            "400000.0\n",
            "Murah - Anda tidak mendapatkan diskon.\n",
            "100000\n"
          ]
        }
      ]
    }
  ]
}